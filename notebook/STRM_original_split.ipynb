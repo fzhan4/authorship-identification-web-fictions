{
 "cells": [
  {
   "cell_type": "markdown",
   "metadata": {},
   "source": [
    "# Author Identification: Stopword Removal"
   ]
  },
  {
   "cell_type": "markdown",
   "metadata": {},
   "source": [
    "## 1) Prepare data"
   ]
  },
  {
   "cell_type": "code",
   "execution_count": 1,
   "metadata": {},
   "outputs": [
    {
     "data": {
      "text/html": [
       "<div>\n",
       "<style scoped>\n",
       "    .dataframe tbody tr th:only-of-type {\n",
       "        vertical-align: middle;\n",
       "    }\n",
       "\n",
       "    .dataframe tbody tr th {\n",
       "        vertical-align: top;\n",
       "    }\n",
       "\n",
       "    .dataframe thead th {\n",
       "        text-align: right;\n",
       "    }\n",
       "</style>\n",
       "<table border=\"1\" class=\"dataframe\">\n",
       "  <thead>\n",
       "    <tr style=\"text-align: right;\">\n",
       "      <th></th>\n",
       "      <th>author</th>\n",
       "    </tr>\n",
       "  </thead>\n",
       "  <tbody>\n",
       "    <tr>\n",
       "      <th>0</th>\n",
       "      <td>IMP</td>\n",
       "    </tr>\n",
       "    <tr>\n",
       "      <th>1</th>\n",
       "      <td>MIX</td>\n",
       "    </tr>\n",
       "    <tr>\n",
       "      <th>2</th>\n",
       "      <td>SMC</td>\n",
       "    </tr>\n",
       "    <tr>\n",
       "      <th>3</th>\n",
       "      <td>AVO</td>\n",
       "    </tr>\n",
       "  </tbody>\n",
       "</table>\n",
       "</div>"
      ],
      "text/plain": [
       "  author\n",
       "0    IMP\n",
       "1    MIX\n",
       "2    SMC\n",
       "3    AVO"
      ]
     },
     "execution_count": 1,
     "metadata": {},
     "output_type": "execute_result"
    }
   ],
   "source": [
    "import pandas as pd\n",
    "import numpy as np\n",
    "\n",
    "author_info = pd.read_json('fanfic-data/author.json')\n",
    "author_info"
   ]
  },
  {
   "cell_type": "code",
   "execution_count": 2,
   "metadata": {},
   "outputs": [],
   "source": [
    "X = []\n",
    "y = []"
   ]
  },
  {
   "cell_type": "code",
   "execution_count": 3,
   "metadata": {},
   "outputs": [],
   "source": [
    "## alternative way:\n",
    "# fictions from fandom \"Inception\" as training set\n",
    "X_train_inc = []\n",
    "y_train_inc = []\n",
    "\n",
    "# others as test set\n",
    "X_test_inc = []\n",
    "y_test_inc = []"
   ]
  },
  {
   "cell_type": "code",
   "execution_count": 4,
   "metadata": {},
   "outputs": [],
   "source": [
    "# read text files from all authors\n",
    "for auth in author_info['author']:\n",
    "    \n",
    "    info = pd.read_json('fanfic-data/'+auth+'/info.json')\n",
    "    \n",
    "    text_file = []\n",
    "    ind_inception = [] ##\n",
    "    \n",
    "    for index, row in info.iterrows():\n",
    "        # read individual file\n",
    "        file = row['snippet']\n",
    "        auth = row['author']\n",
    "        df = pd.read_csv('fanfic-data/'+auth+'/'+file+'.txt', sep='/n', \\\n",
    "                         header=None, engine='python', encoding='utf-8')\n",
    "        text_file.append(df[0]) # default column '0', rows of snippets\n",
    "        ind_inception.append([row['fandom'] == 'inception' \\\n",
    "                              for i in range(len(df[0]))]) ##\n",
    "        \n",
    "    text = np.hstack(text_file)\n",
    "    X.append(text)\n",
    "    y.append(np.repeat(auth, text.size))\n",
    "    \n",
    "    is_inc = np.hstack(ind_inception)\n",
    "    X_train_inc.append(text[is_inc])\n",
    "    y_train_inc.append(np.repeat(auth, text[is_inc].size))\n",
    "    X_test_inc.append(text[~is_inc])\n",
    "    y_test_inc.append(np.repeat(auth, text[~is_inc].size))"
   ]
  },
  {
   "cell_type": "markdown",
   "metadata": {},
   "source": [
    "#### check sample size from each class:"
   ]
  },
  {
   "cell_type": "code",
   "execution_count": 5,
   "metadata": {},
   "outputs": [
    {
     "name": "stdout",
     "output_type": "stream",
     "text": [
      "248\n",
      "218\n",
      "235\n",
      "150\n"
     ]
    }
   ],
   "source": [
    "for X_i in X:\n",
    "    print(len(X_i))"
   ]
  },
  {
   "cell_type": "code",
   "execution_count": 6,
   "metadata": {},
   "outputs": [
    {
     "name": "stdout",
     "output_type": "stream",
     "text": [
      "248\n",
      "218\n",
      "235\n",
      "150\n"
     ]
    }
   ],
   "source": [
    "for y_i in y:\n",
    "    print(len(y_i))"
   ]
  },
  {
   "cell_type": "markdown",
   "metadata": {},
   "source": [
    "#### feature matrix and class label"
   ]
  },
  {
   "cell_type": "code",
   "execution_count": 7,
   "metadata": {},
   "outputs": [],
   "source": [
    "X = np.hstack(X)\n",
    "y = np.hstack(y)"
   ]
  },
  {
   "cell_type": "code",
   "execution_count": 8,
   "metadata": {},
   "outputs": [
    {
     "name": "stdout",
     "output_type": "stream",
     "text": [
      "851\n"
     ]
    }
   ],
   "source": [
    "print(X.size)"
   ]
  },
  {
   "cell_type": "code",
   "execution_count": 9,
   "metadata": {},
   "outputs": [],
   "source": [
    "X_train_inc = np.hstack(X_train_inc)\n",
    "y_train_inc = np.hstack(y_train_inc)\n",
    "X_test_inc = np.hstack(X_test_inc)\n",
    "y_test_inc = np.hstack(y_test_inc)"
   ]
  },
  {
   "cell_type": "code",
   "execution_count": 10,
   "metadata": {},
   "outputs": [
    {
     "name": "stdout",
     "output_type": "stream",
     "text": [
      "499\n",
      "499\n",
      "352\n",
      "352\n"
     ]
    }
   ],
   "source": [
    "print(X_train_inc.size)\n",
    "print(y_train_inc.size)\n",
    "print(X_test_inc.size)\n",
    "print(y_test_inc.size)"
   ]
  },
  {
   "cell_type": "markdown",
   "metadata": {},
   "source": [
    "#### label encoding"
   ]
  },
  {
   "cell_type": "code",
   "execution_count": 11,
   "metadata": {},
   "outputs": [
    {
     "data": {
      "text/plain": [
       "array([1, 1, 1, 1, 1, 1, 1, 1, 1, 1, 1, 1, 1, 1, 1, 1, 1, 1, 1, 1, 1, 1,\n",
       "       1, 1, 1, 1, 1, 1, 1, 1, 1, 1, 1, 1, 1, 1, 1, 1, 1, 1, 1, 1, 1, 1,\n",
       "       1, 1, 1, 1, 1, 1, 1, 1, 1, 1, 1, 1, 1, 1, 1, 1, 1, 1, 1, 1, 1, 1,\n",
       "       1, 1, 1, 1, 1, 1, 1, 1, 1, 1, 1, 1, 1, 1, 1, 1, 1, 1, 1, 1, 1, 1,\n",
       "       1, 1, 1, 1, 1, 1, 1, 1, 1, 1, 1, 1, 1, 1, 1, 1, 1, 1, 1, 1, 1, 1,\n",
       "       1, 1, 1, 1, 1, 1, 1, 1, 1, 1, 1, 1, 1, 1, 1, 1, 1, 1, 1, 1, 1, 1,\n",
       "       1, 1, 1, 1, 1, 1, 1, 1, 1, 1, 1, 1, 1, 1, 1, 1, 1, 1, 1, 1, 1, 1,\n",
       "       1, 1, 1, 1, 1, 1, 1, 1, 1, 1, 1, 1, 1, 1, 1, 1, 1, 1, 1, 1, 1, 1,\n",
       "       1, 1, 1, 1, 1, 1, 1, 1, 1, 1, 1, 1, 1, 1, 1, 1, 1, 1, 1, 1, 1, 1,\n",
       "       1, 1, 1, 1, 1, 1, 1, 1, 1, 1, 1, 1, 1, 1, 1, 1, 1, 1, 1, 1, 1, 1,\n",
       "       1, 1, 1, 1, 1, 1, 1, 1, 1, 1, 1, 1, 1, 1, 1, 1, 1, 1, 1, 1, 1, 1,\n",
       "       1, 1, 1, 1, 1, 1, 2, 2, 2, 2, 2, 2, 2, 2, 2, 2, 2, 2, 2, 2, 2, 2,\n",
       "       2, 2, 2, 2, 2, 2, 2, 2, 2, 2, 2, 2, 2, 2, 2, 2, 2, 2, 2, 2, 2, 2,\n",
       "       2, 2, 2, 2, 2, 2, 2, 2, 2, 2, 2, 2, 2, 2, 2, 2, 2, 2, 2, 2, 2, 2,\n",
       "       2, 2, 2, 2, 2, 2, 2, 2, 2, 2, 2, 2, 2, 2, 2, 2, 2, 2, 2, 2, 2, 2,\n",
       "       2, 2, 2, 2, 2, 2, 2, 2, 2, 2, 2, 2, 2, 2, 2, 2, 2, 2, 2, 2, 2, 2,\n",
       "       2, 2, 2, 2, 2, 2, 2, 2, 2, 2, 2, 2, 2, 2, 2, 2, 2, 2, 2, 2, 2, 2,\n",
       "       2, 2, 2, 2, 2, 2, 2, 2, 2, 2, 2, 2, 2, 2, 2, 2, 2, 2, 2, 2, 2, 2,\n",
       "       2, 2, 2, 2, 2, 2, 2, 2, 2, 2, 2, 2, 2, 2, 2, 2, 2, 2, 2, 2, 2, 2,\n",
       "       2, 2, 2, 2, 2, 2, 2, 2, 2, 2, 2, 2, 2, 2, 2, 2, 2, 2, 2, 2, 2, 2,\n",
       "       2, 2, 2, 2, 2, 2, 2, 2, 2, 2, 2, 2, 2, 2, 2, 2, 2, 2, 2, 2, 2, 2,\n",
       "       2, 2, 2, 2, 3, 3, 3, 3, 3, 3, 3, 3, 3, 3, 3, 3, 3, 3, 3, 3, 3, 3,\n",
       "       3, 3, 3, 3, 3, 3, 3, 3, 3, 3, 3, 3, 3, 3, 3, 3, 3, 3, 3, 3, 3, 3,\n",
       "       3, 3, 3, 3, 3, 3, 3, 3, 3, 3, 3, 3, 3, 3, 3, 3, 3, 3, 3, 3, 3, 3,\n",
       "       3, 3, 3, 3, 3, 3, 3, 3, 3, 3, 3, 3, 3, 3, 3, 3, 3, 3, 3, 3, 3, 3,\n",
       "       3, 3, 3, 3, 3, 3, 3, 3, 3, 3, 3, 3, 3, 3, 3, 3, 3, 3, 3, 3, 3, 3,\n",
       "       3, 3, 3, 3, 3, 3, 3, 3, 3, 3, 3, 3, 3, 3, 3, 3, 3, 3, 3, 3, 3, 3,\n",
       "       3, 3, 3, 3, 3, 3, 3, 3, 3, 3, 3, 3, 3, 3, 3, 3, 3, 3, 3, 3, 3, 3,\n",
       "       3, 3, 3, 3, 3, 3, 3, 3, 3, 3, 3, 3, 3, 3, 3, 3, 3, 3, 3, 3, 3, 3,\n",
       "       3, 3, 3, 3, 3, 3, 3, 3, 3, 3, 3, 3, 3, 3, 3, 3, 3, 3, 3, 3, 3, 3,\n",
       "       3, 3, 3, 3, 3, 3, 3, 3, 3, 3, 3, 3, 3, 3, 3, 3, 3, 3, 3, 3, 3, 3,\n",
       "       3, 3, 3, 3, 3, 3, 3, 3, 3, 3, 3, 3, 3, 3, 3, 3, 3, 3, 3, 0, 0, 0,\n",
       "       0, 0, 0, 0, 0, 0, 0, 0, 0, 0, 0, 0, 0, 0, 0, 0, 0, 0, 0, 0, 0, 0,\n",
       "       0, 0, 0, 0, 0, 0, 0, 0, 0, 0, 0, 0, 0, 0, 0, 0, 0, 0, 0, 0, 0, 0,\n",
       "       0, 0, 0, 0, 0, 0, 0, 0, 0, 0, 0, 0, 0, 0, 0, 0, 0, 0, 0, 0, 0, 0,\n",
       "       0, 0, 0, 0, 0, 0, 0, 0, 0, 0, 0, 0, 0, 0, 0, 0, 0, 0, 0, 0, 0, 0,\n",
       "       0, 0, 0, 0, 0, 0, 0, 0, 0, 0, 0, 0, 0, 0, 0, 0, 0, 0, 0, 0, 0, 0,\n",
       "       0, 0, 0, 0, 0, 0, 0, 0, 0, 0, 0, 0, 0, 0, 0, 0, 0, 0, 0, 0, 0, 0,\n",
       "       0, 0, 0, 0, 0, 0, 0, 0, 0, 0, 0, 0, 0, 0, 0], dtype=int64)"
      ]
     },
     "execution_count": 11,
     "metadata": {},
     "output_type": "execute_result"
    }
   ],
   "source": [
    "from sklearn.preprocessing import LabelEncoder\n",
    "\n",
    "labelencoder = LabelEncoder()\n",
    "y = labelencoder.fit_transform(y)\n",
    "y"
   ]
  },
  {
   "cell_type": "code",
   "execution_count": 12,
   "metadata": {},
   "outputs": [],
   "source": [
    "y_train_inc = labelencoder.fit_transform(y_train_inc)\n",
    "y_test_inc = labelencoder.fit_transform(y_test_inc)"
   ]
  },
  {
   "cell_type": "markdown",
   "metadata": {},
   "source": [
    "## 2) Text preprocessing: tokenizer"
   ]
  },
  {
   "cell_type": "code",
   "execution_count": 13,
   "metadata": {},
   "outputs": [],
   "source": [
    "import spacy\n",
    "nlp = spacy.load(\"en_core_web_lg\")"
   ]
  },
  {
   "cell_type": "code",
   "execution_count": 14,
   "metadata": {},
   "outputs": [],
   "source": [
    "# define LSM: POS of choice\n",
    "list_of_pos = ['ADP','ADV','AUX','CCONJ','DET','INTJ','PART','PRON','SCONJ','PUNCT']\n",
    "\n",
    "def LSM_tokenizer(document):\n",
    "    tokens = nlp(document)\n",
    "    tokens = [token.lemma_ for token in tokens if (\n",
    "        token.pos_ in list_of_pos and token.lemma_.strip() != '')]\n",
    "    return tokens"
   ]
  },
  {
   "cell_type": "code",
   "execution_count": 15,
   "metadata": {},
   "outputs": [],
   "source": [
    "# define stopword removal\n",
    "def SR_tokenizer(document):\n",
    "    tokens = nlp(document)\n",
    "    tokens = [token.lemma_ for token in tokens if (\n",
    "        token.is_stop == False and \\\n",
    "        token.is_punct == False and \\\n",
    "        token.lemma_.strip()!= '')]\n",
    "    return tokens"
   ]
  },
  {
   "cell_type": "markdown",
   "metadata": {},
   "source": [
    "## 3) Feature engineering (extraction)"
   ]
  },
  {
   "cell_type": "code",
   "execution_count": 16,
   "metadata": {},
   "outputs": [],
   "source": [
    "from sklearn.feature_extraction.text import CountVectorizer\n",
    "from sklearn.feature_extraction.text import TfidfVectorizer\n",
    "from sklearn.model_selection import train_test_split"
   ]
  },
  {
   "cell_type": "code",
   "execution_count": 17,
   "metadata": {},
   "outputs": [],
   "source": [
    "# split dataset: 80% train, 20% validation\n",
    "X_train, X_test, y_train, y_test = train_test_split(X, y,\n",
    "                                                    test_size = 0.2,\n",
    "                                                    random_state = 1234,\n",
    "                                                    stratify = y)"
   ]
  },
  {
   "cell_type": "code",
   "execution_count": 18,
   "metadata": {},
   "outputs": [
    {
     "name": "stderr",
     "output_type": "stream",
     "text": [
      "C:\\Users\\zhan\\Anaconda\\lib\\site-packages\\sklearn\\feature_extraction\\text.py:484: UserWarning: The parameter 'token_pattern' will not be used since 'tokenizer' is not None'\n",
      "  warnings.warn(\"The parameter 'token_pattern' will not be used\"\n"
     ]
    }
   ],
   "source": [
    "bow_transformer = CountVectorizer(tokenizer = SR_tokenizer).fit(X_train)\n",
    "\n",
    "tfidf_transformer = TfidfVectorizer(tokenizer = SR_tokenizer).fit(X_train)"
   ]
  },
  {
   "cell_type": "code",
   "execution_count": 19,
   "metadata": {},
   "outputs": [],
   "source": [
    "# print(bow_transformer.get_feature_names()[:20])\n",
    "# print(tfidf_transformer.get_feature_names()[:20])"
   ]
  },
  {
   "cell_type": "code",
   "execution_count": 20,
   "metadata": {},
   "outputs": [],
   "source": [
    "# transform into bag-of-words OR tf-idf\n",
    "text_bow_train = bow_transformer.transform(X_train)\n",
    "text_bow_test = bow_transformer.transform(X_test)\n",
    "\n",
    "text_tfidf_train = tfidf_transformer.transform(X_train)\n",
    "text_tfidf_test = tfidf_transformer.transform(X_test)"
   ]
  },
  {
   "cell_type": "markdown",
   "metadata": {},
   "source": [
    "## 4) Model selection"
   ]
  },
  {
   "cell_type": "markdown",
   "metadata": {},
   "source": [
    "### i. Multinomial Naive Bayes\n",
    "Note: Naive Bayes doesn't have any hyperparameters to tune"
   ]
  },
  {
   "cell_type": "markdown",
   "metadata": {},
   "source": [
    "#### train MultinomialNB & perform k-fold CV (k=10)"
   ]
  },
  {
   "cell_type": "code",
   "execution_count": 21,
   "metadata": {},
   "outputs": [
    {
     "name": "stdout",
     "output_type": "stream",
     "text": [
      "Multinomial Naive Bayes classifier:\n",
      "1) BOW\n",
      "Kfold Accuracy: 97.35%\n",
      "Test Accuracy: 97.66%\n",
      "2) Tf-idf\n",
      "Kfold Accuracy: 88.53%\n",
      "Test Accuracy: 88.30%\n"
     ]
    }
   ],
   "source": [
    "from sklearn.naive_bayes import MultinomialNB\n",
    "from sklearn.model_selection import cross_val_score\n",
    "\n",
    "mnb = MultinomialNB()\n",
    "cv_acc1 = cross_val_score(estimator=mnb,\n",
    "                         X=text_bow_train,\n",
    "                         y=y_train,\n",
    "                         cv=10)\n",
    "\n",
    "cv_acc2 = cross_val_score(estimator=mnb,\n",
    "                         X=text_tfidf_train,\n",
    "                         y=y_train,\n",
    "                         cv=10)\n",
    "\n",
    "model1 = MultinomialNB().fit(text_bow_train, y_train)\n",
    "model2 = MultinomialNB().fit(text_tfidf_train, y_train)\n",
    "\n",
    "print('Multinomial Naive Bayes classifier:')\n",
    "print('1) BOW')\n",
    "print('Kfold Accuracy: %.2f%%' % (np.mean(cv_acc1)*100))\n",
    "print('Test Accuracy: %.2f%%' % (model1.score(text_bow_test, y_test)*100))\n",
    "print('2) Tf-idf')\n",
    "print('Kfold Accuracy: %.2f%%' % (np.mean(cv_acc2)*100))\n",
    "print('Test Accuracy: %.2f%%' % (model2.score(text_tfidf_test, y_test)*100))"
   ]
  },
  {
   "cell_type": "markdown",
   "metadata": {},
   "source": [
    "#### Precision, Recall, F1-score"
   ]
  },
  {
   "cell_type": "code",
   "execution_count": 22,
   "metadata": {},
   "outputs": [],
   "source": [
    "from sklearn.metrics import accuracy_score, precision_score, \\\n",
    "                            recall_score, f1_score, matthews_corrcoef\n",
    "\n",
    "def display_scores(y_test, y_pred):\n",
    "    print('Accuracy: %.3f' % accuracy_score(y_true=y_test, y_pred=y_pred))\n",
    "    print('Precision: %.3f' % precision_score(y_true=y_test, y_pred=y_pred, average='macro'))\n",
    "    print('Recall: %.3f' % recall_score(y_true=y_test, y_pred=y_pred, average='macro'))\n",
    "    print('F1: %.3f' % f1_score(y_true=y_test, y_pred=y_pred, average='macro'))\n",
    "    print('MCC: %.3f' % matthews_corrcoef(y_true=y_test, y_pred=y_pred))"
   ]
  },
  {
   "cell_type": "code",
   "execution_count": 23,
   "metadata": {},
   "outputs": [
    {
     "name": "stdout",
     "output_type": "stream",
     "text": [
      "1) BOW\n",
      "Accuracy: 0.977\n",
      "Precision: 0.979\n",
      "Recall: 0.979\n",
      "F1: 0.979\n",
      "MCC: 0.969\n",
      "2) Tf-idf\n",
      "Accuracy: 0.883\n",
      "Precision: 0.918\n",
      "Recall: 0.842\n",
      "F1: 0.848\n",
      "MCC: 0.851\n"
     ]
    }
   ],
   "source": [
    "predictions1 = model1.predict(text_bow_test)\n",
    "print('1) BOW')\n",
    "display_scores(y_test, predictions1)\n",
    "\n",
    "\n",
    "predictions2 = model2.predict(text_tfidf_test)\n",
    "print('2) Tf-idf')\n",
    "display_scores(y_test, predictions2)"
   ]
  },
  {
   "cell_type": "markdown",
   "metadata": {},
   "source": [
    "#### Confusion matrix"
   ]
  },
  {
   "cell_type": "code",
   "execution_count": 24,
   "metadata": {},
   "outputs": [],
   "source": [
    "from sklearn.metrics import confusion_matrix\n",
    "import numpy as np\n",
    "import itertools\n",
    "import matplotlib.pyplot as plt\n",
    "\n",
    "# define a module for confusion matirx\n",
    "def plot_confusion_matrix(cm, classes,\n",
    "                          normalize=False,\n",
    "                          title='Confusion matrix',\n",
    "                          cmap=plt.cm.Blues):\n",
    "    \"\"\"\n",
    "    This function prints and plots the confusion matrix.\n",
    "    Normalization can be applied by setting `normalize=True`.\n",
    "    \"\"\"\n",
    "    if normalize:\n",
    "        cm = cm.astype('float') / cm.sum(axis=1)[:, np.newaxis]\n",
    "        print(\"Normalized confusion matrix\")\n",
    "    else:\n",
    "        print('Confusion matrix, without normalization')\n",
    "        \n",
    "    print(cm)\n",
    "    \n",
    "    plt.imshow(cm, interpolation='nearest', cmap=cmap)\n",
    "    plt.title(title)\n",
    "    plt.colorbar()\n",
    "    tick_marks = np.arange(len(classes))\n",
    "    plt.xticks(tick_marks, classes, rotation=45)\n",
    "    plt.yticks(tick_marks, classes)\n",
    "    fmt = '.2f' if normalize else 'd'\n",
    "    thresh = cm.max() / 2.\n",
    "    for i, j in itertools.product(range(cm.shape[0]), range(cm.shape[1])):\n",
    "        plt.text(j, i, format(cm[i, j], fmt),\n",
    "                 horizontalalignment=\"center\",\n",
    "                 color=\"white\" if cm[i, j] > thresh else \"black\")\n",
    "        \n",
    "    plt.tight_layout()\n",
    "    plt.ylabel('True label')\n",
    "    plt.xlabel('Predicted label')"
   ]
  },
  {
   "cell_type": "code",
   "execution_count": 25,
   "metadata": {},
   "outputs": [
    {
     "name": "stdout",
     "output_type": "stream",
     "text": [
      "Normalized confusion matrix\n",
      "[[1.         0.         0.         0.        ]\n",
      " [0.         0.96       0.04       0.        ]\n",
      " [0.         0.         1.         0.        ]\n",
      " [0.         0.         0.04255319 0.95744681]]\n",
      "Normalized confusion matrix\n",
      "[[0.43333333 0.46666667 0.         0.1       ]\n",
      " [0.         0.98       0.         0.02      ]\n",
      " [0.         0.02272727 0.97727273 0.        ]\n",
      " [0.         0.0212766  0.         0.9787234 ]]\n"
     ]
    },
    {
     "data": {
      "image/png": "[encoded data removed]",
      "text/plain": [
       "<Figure size 432x288 with 2 Axes>"
      ]
     },
     "metadata": {
      "needs_background": "light"
     },
     "output_type": "display_data"
    },
    {
     "data": {
      "image/png": "[encoded data removed]",
      "text/plain": [
       "<Figure size 432x288 with 2 Axes>"
      ]
     },
     "metadata": {
      "needs_background": "light"
     },
     "output_type": "display_data"
    }
   ],
   "source": [
    "cm1 = confusion_matrix(y_test,predictions1)\n",
    "plt.figure()\n",
    "\n",
    "plot_confusion_matrix(cm1, author_info['author'], normalize=True, title='BOW Confusion Matrix')\n",
    "\n",
    "cm2 = confusion_matrix(y_test,predictions2)\n",
    "plt.figure()\n",
    "\n",
    "plot_confusion_matrix(cm2, author_info['author'], normalize=True, title='Tfidf Confusion Matrix')"
   ]
  },
  {
   "cell_type": "markdown",
   "metadata": {},
   "source": [
    "#### balanced accuracy"
   ]
  },
  {
   "cell_type": "code",
   "execution_count": 26,
   "metadata": {},
   "outputs": [
    {
     "name": "stdout",
     "output_type": "stream",
     "text": [
      "Average per-class accuracy: 98.83%\n"
     ]
    }
   ],
   "source": [
    "from mlxtend.evaluate import accuracy_score\n",
    "avg_acc = accuracy_score(y_test, predictions1, method='average')\n",
    "print(f'Average per-class accuracy: {avg_acc*100:.2f}%')"
   ]
  },
  {
   "cell_type": "markdown",
   "metadata": {},
   "source": [
    "### ii. KNN (baseline)"
   ]
  },
  {
   "cell_type": "markdown",
   "metadata": {},
   "source": [
    "#### train KNN & perform grid search CV"
   ]
  },
  {
   "cell_type": "code",
   "execution_count": 26,
   "metadata": {},
   "outputs": [
    {
     "name": "stdout",
     "output_type": "stream",
     "text": [
      "1) BOW\n",
      "Best Accuracy: 90.29%\n",
      "Best Params: {'metric': 'euclidean', 'n_neighbors': 7, 'weights': 'uniform'}\n",
      "2) Tf-idf\n",
      "Best Accuracy: 93.38%\n",
      "Best Params: {'metric': 'euclidean', 'n_neighbors': 5, 'weights': 'distance'}\n"
     ]
    }
   ],
   "source": [
    "from sklearn.neighbors import KNeighborsClassifier\n",
    "from sklearn.model_selection import GridSearchCV\n",
    "\n",
    "grid_params = {\n",
    "    'n_neighbors': [3,5,7,9,11,13,15,17,19],\n",
    "    'weights': ['uniform', 'distance'],\n",
    "    'metric': ['euclidean', 'manhattan']\n",
    "}\n",
    "\n",
    "gs = GridSearchCV(estimator=KNeighborsClassifier(),\n",
    "                  param_grid=grid_params,\n",
    "                  cv=10)\n",
    "\n",
    "gs.fit(text_bow_train, y_train)\n",
    "model1 = gs.best_estimator_\n",
    "print('1) BOW')\n",
    "print('Best Accuracy: %.2f%%' % (gs.best_score_*100))\n",
    "print('Best Params:', gs.best_params_)\n",
    "\n",
    "gs.fit(text_tfidf_train, y_train)\n",
    "model2 = gs.best_estimator_\n",
    "print('2) Tf-idf')\n",
    "print('Best Accuracy: %.2f%%' % (gs.best_score_*100))\n",
    "print('Best Params:', gs.best_params_)"
   ]
  },
  {
   "cell_type": "markdown",
   "metadata": {},
   "source": [
    "#### Precision, Recall, F1-score"
   ]
  },
  {
   "cell_type": "code",
   "execution_count": 27,
   "metadata": {},
   "outputs": [
    {
     "name": "stdout",
     "output_type": "stream",
     "text": [
      "1) BOW\n",
      "Accuracy: 0.912\n",
      "Precision: 0.919\n",
      "Recall: 0.915\n",
      "F1: 0.915\n",
      "MCC: 0.883\n",
      "2) Tf-idf\n",
      "Accuracy: 0.959\n",
      "Precision: 0.953\n",
      "Recall: 0.962\n",
      "F1: 0.955\n",
      "MCC: 0.946\n"
     ]
    }
   ],
   "source": [
    "predictions1 = model1.predict(text_bow_test)\n",
    "print('1) BOW')\n",
    "display_scores(y_test, predictions1)\n",
    "\n",
    "\n",
    "predictions2 = model2.predict(text_tfidf_test)\n",
    "print('2) Tf-idf')\n",
    "display_scores(y_test, predictions2)"
   ]
  },
  {
   "cell_type": "markdown",
   "metadata": {},
   "source": [
    "#### Confusion matrix"
   ]
  },
  {
   "cell_type": "code",
   "execution_count": 28,
   "metadata": {},
   "outputs": [
    {
     "name": "stdout",
     "output_type": "stream",
     "text": [
      "Normalized confusion matrix\n",
      "[[0.96666667 0.         0.03333333 0.        ]\n",
      " [0.         0.94       0.02       0.04      ]\n",
      " [0.         0.06818182 0.79545455 0.13636364]\n",
      " [0.0212766  0.         0.0212766  0.95744681]]\n",
      "Normalized confusion matrix\n",
      "[[1.         0.         0.         0.        ]\n",
      " [0.         0.98       0.02       0.        ]\n",
      " [0.06818182 0.         0.90909091 0.02272727]\n",
      " [0.04255319 0.         0.         0.95744681]]\n"
     ]
    },
    {
     "data": {
      "image/png": "[encoded data removed]",
      "text/plain": [
       "<Figure size 432x288 with 2 Axes>"
      ]
     },
     "metadata": {
      "needs_background": "light"
     },
     "output_type": "display_data"
    },
    {
     "data": {
      "image/png": "[encoded data removed]",
      "text/plain": [
       "<Figure size 432x288 with 2 Axes>"
      ]
     },
     "metadata": {
      "needs_background": "light"
     },
     "output_type": "display_data"
    }
   ],
   "source": [
    "cm1 = confusion_matrix(y_test,predictions1)\n",
    "plt.figure()\n",
    "\n",
    "plot_confusion_matrix(cm1, author_info['author'], normalize=True, title='BOW Confusion Matrix')\n",
    "\n",
    "cm2 = confusion_matrix(y_test,predictions2)\n",
    "plt.figure()\n",
    "\n",
    "plot_confusion_matrix(cm2, author_info['author'], normalize=True, title='Tfidf Confusion Matrix')"
   ]
  },
  {
   "cell_type": "markdown",
   "metadata": {},
   "source": [
    "### iii. Random Forest\n",
    "\n",
    "#### train Random Forest & perform grid search CV"
   ]
  },
  {
   "cell_type": "code",
   "execution_count": 29,
   "metadata": {},
   "outputs": [
    {
     "name": "stdout",
     "output_type": "stream",
     "text": [
      "1) BOW\n",
      "Best Accuracy: 95.29%\n",
      "Best Params: {'max_features': 'auto', 'min_samples_split': 7}\n",
      "2) Tf-idf\n",
      "Best Accuracy: 94.56%\n",
      "Best Params: {'max_features': 'auto', 'min_samples_split': 6}\n"
     ]
    }
   ],
   "source": [
    "from sklearn.ensemble import RandomForestClassifier\n",
    "\n",
    "grid_params = {'min_samples_split': [2, 3, 4, 5, 6, 7],\n",
    "               'max_features': ['auto', 'sqrt']}\n",
    "\n",
    "gs = GridSearchCV(estimator=RandomForestClassifier(random_state=123),\n",
    "                  param_grid=grid_params,\n",
    "                  cv=10)\n",
    "\n",
    "gs.fit(text_bow_train, y_train)\n",
    "model1 = gs.best_estimator_\n",
    "print('1) BOW')\n",
    "print('Best Accuracy: %.2f%%' % (gs.best_score_*100))\n",
    "print('Best Params:', gs.best_params_)\n",
    "\n",
    "gs.fit(text_tfidf_train, y_train)\n",
    "model2 = gs.best_estimator_\n",
    "print('2) Tf-idf')\n",
    "print('Best Accuracy: %.2f%%' % (gs.best_score_*100))\n",
    "print('Best Params:', gs.best_params_)"
   ]
  },
  {
   "cell_type": "markdown",
   "metadata": {},
   "source": [
    "#### Precision, Recall, F1-score"
   ]
  },
  {
   "cell_type": "code",
   "execution_count": 30,
   "metadata": {},
   "outputs": [
    {
     "name": "stdout",
     "output_type": "stream",
     "text": [
      "1) BOW\n",
      "Accuracy: 0.953\n",
      "Precision: 0.957\n",
      "Recall: 0.954\n",
      "F1: 0.956\n",
      "MCC: 0.937\n",
      "2) Tf-idf\n",
      "Accuracy: 0.947\n",
      "Precision: 0.954\n",
      "Recall: 0.943\n",
      "F1: 0.948\n",
      "MCC: 0.929\n"
     ]
    }
   ],
   "source": [
    "predictions1 = model1.predict(text_bow_test)\n",
    "print('1) BOW')\n",
    "display_scores(y_test, predictions1)\n",
    "\n",
    "\n",
    "predictions2 = model2.predict(text_tfidf_test)\n",
    "print('2) Tf-idf')\n",
    "display_scores(y_test, predictions2)"
   ]
  },
  {
   "cell_type": "markdown",
   "metadata": {},
   "source": [
    "#### Confusion matrix"
   ]
  },
  {
   "cell_type": "code",
   "execution_count": 31,
   "metadata": {},
   "outputs": [
    {
     "name": "stdout",
     "output_type": "stream",
     "text": [
      "Normalized confusion matrix\n",
      "[[0.96666667 0.03333333 0.         0.        ]\n",
      " [0.         0.96       0.02       0.02      ]\n",
      " [0.         0.         0.95454545 0.04545455]\n",
      " [0.         0.         0.06382979 0.93617021]]\n",
      "Normalized confusion matrix\n",
      "[[0.9        0.06666667 0.         0.03333333]\n",
      " [0.         0.96       0.         0.04      ]\n",
      " [0.         0.         0.95454545 0.04545455]\n",
      " [0.         0.0212766  0.0212766  0.95744681]]\n"
     ]
    },
    {
     "data": {
      "image/png": "[encoded data removed]",
      "text/plain": [
       "<Figure size 432x288 with 2 Axes>"
      ]
     },
     "metadata": {
      "needs_background": "light"
     },
     "output_type": "display_data"
    },
    {
     "data": {
      "image/png": "[encoded data removed]",
      "text/plain": [
       "<Figure size 432x288 with 2 Axes>"
      ]
     },
     "metadata": {
      "needs_background": "light"
     },
     "output_type": "display_data"
    }
   ],
   "source": [
    "cm1 = confusion_matrix(y_test,predictions1)\n",
    "plt.figure()\n",
    "\n",
    "plot_confusion_matrix(cm1, author_info['author'], normalize=True, title='BOW Confusion Matrix')\n",
    "\n",
    "cm2 = confusion_matrix(y_test,predictions2)\n",
    "plt.figure()\n",
    "\n",
    "plot_confusion_matrix(cm2, author_info['author'], normalize=True, title='Tfidf Confusion Matrix')"
   ]
  },
  {
   "cell_type": "markdown",
   "metadata": {},
   "source": [
    "### iv. XGBoost\n",
    "\n",
    "#### train XGBoost & perform grid search CV"
   ]
  },
  {
   "cell_type": "code",
   "execution_count": 32,
   "metadata": {},
   "outputs": [
    {
     "name": "stdout",
     "output_type": "stream",
     "text": [
      "1) BOW\n",
      "Best Accuracy: 94.85%\n",
      "Best Params: {'learning_rate': 0.1, 'max_depth': 5}\n",
      "2) Tf-idf\n",
      "Best Accuracy: 94.12%\n",
      "Best Params: {'learning_rate': 0.1, 'max_depth': 2}\n"
     ]
    }
   ],
   "source": [
    "from xgboost import XGBClassifier\n",
    "# 'max_depth': range (2, 10, 1),\n",
    "               \n",
    "grid_params = {'max_depth': [2, 5, 10],\n",
    "               'learning_rate': [0.1]}\n",
    "\n",
    "gs = GridSearchCV(estimator=XGBClassifier(random_state=123, \n",
    "                                          use_label_encoder=False, \n",
    "                                          eval_metric='merror'),\n",
    "                  param_grid=grid_params,\n",
    "                  cv=10)\n",
    "\n",
    "gs.fit(text_bow_train, y_train)\n",
    "model1 = gs.best_estimator_\n",
    "print('1) BOW')\n",
    "print('Best Accuracy: %.2f%%' % (gs.best_score_*100))\n",
    "print('Best Params:', gs.best_params_)\n",
    "\n",
    "gs.fit(text_tfidf_train, y_train)\n",
    "model2 = gs.best_estimator_\n",
    "print('2) Tf-idf')\n",
    "print('Best Accuracy: %.2f%%' % (gs.best_score_*100))\n",
    "print('Best Params:', gs.best_params_)"
   ]
  },
  {
   "cell_type": "markdown",
   "metadata": {},
   "source": [
    "#### Precision, Recall, F1-score"
   ]
  },
  {
   "cell_type": "code",
   "execution_count": 33,
   "metadata": {},
   "outputs": [
    {
     "name": "stdout",
     "output_type": "stream",
     "text": [
      "1) BOW\n",
      "Accuracy: 0.959\n",
      "Precision: 0.960\n",
      "Recall: 0.962\n",
      "F1: 0.960\n",
      "MCC: 0.945\n",
      "2) Tf-idf\n",
      "Accuracy: 0.947\n",
      "Precision: 0.949\n",
      "Recall: 0.949\n",
      "F1: 0.949\n",
      "MCC: 0.929\n"
     ]
    }
   ],
   "source": [
    "predictions1 = model1.predict(text_bow_test)\n",
    "print('1) BOW')\n",
    "display_scores(y_test, predictions1)\n",
    "\n",
    "\n",
    "predictions2 = model2.predict(text_tfidf_test)\n",
    "print('2) Tf-idf')\n",
    "display_scores(y_test, predictions2)"
   ]
  },
  {
   "cell_type": "markdown",
   "metadata": {},
   "source": [
    "#### Confusion matrix"
   ]
  },
  {
   "cell_type": "code",
   "execution_count": 34,
   "metadata": {},
   "outputs": [
    {
     "name": "stdout",
     "output_type": "stream",
     "text": [
      "Normalized confusion matrix\n",
      "[[1.         0.         0.         0.        ]\n",
      " [0.02       0.98       0.         0.        ]\n",
      " [0.         0.02272727 0.95454545 0.02272727]\n",
      " [0.         0.         0.08510638 0.91489362]]\n",
      "Normalized confusion matrix\n",
      "[[0.96666667 0.         0.         0.03333333]\n",
      " [0.         0.96       0.02       0.02      ]\n",
      " [0.         0.02272727 0.95454545 0.02272727]\n",
      " [0.0212766  0.         0.06382979 0.91489362]]\n"
     ]
    },
    {
     "data": {
      "image/png": "[encoded data removed]",
      "text/plain": [
       "<Figure size 432x288 with 2 Axes>"
      ]
     },
     "metadata": {
      "needs_background": "light"
     },
     "output_type": "display_data"
    },
    {
     "data": {
      "image/png": "[encoded data removed]",
      "text/plain": [
       "<Figure size 432x288 with 2 Axes>"
      ]
     },
     "metadata": {
      "needs_background": "light"
     },
     "output_type": "display_data"
    }
   ],
   "source": [
    "cm1 = confusion_matrix(y_test,predictions1)\n",
    "plt.figure()\n",
    "\n",
    "plot_confusion_matrix(cm1, author_info['author'], normalize=True, title='BOW Confusion Matrix')\n",
    "\n",
    "cm2 = confusion_matrix(y_test,predictions2)\n",
    "plt.figure()\n",
    "\n",
    "plot_confusion_matrix(cm2, author_info['author'], normalize=True, title='Tfidf Confusion Matrix')"
   ]
  },
  {
   "cell_type": "markdown",
   "metadata": {},
   "source": [
    "### v. Light GBM"
   ]
  },
  {
   "cell_type": "code",
   "execution_count": 35,
   "metadata": {},
   "outputs": [
    {
     "name": "stdout",
     "output_type": "stream",
     "text": [
      "1) BOW\n",
      "Best Accuracy: 95.15%\n",
      "Best Params: {'max_depth': 15, 'num_leaves': 10}\n",
      "2) Tf-idf\n",
      "Best Accuracy: 95.44%\n",
      "Best Params: {'max_depth': 2, 'num_leaves': 5}\n"
     ]
    }
   ],
   "source": [
    "from lightgbm import LGBMClassifier\n",
    "\n",
    "text_bow_train_32 = text_bow_train.astype('float32')\n",
    "text_tfidf_train_32 = text_tfidf_train.astype('float32')\n",
    "text_bow_test_32 = text_bow_test.astype('float32')\n",
    "text_tfidf_test_32 = text_tfidf_test.astype('float32')\n",
    "y_train_32 = y_train.astype('float32')\n",
    "y_test_32 = y_test.astype('float32')\n",
    "\n",
    "\n",
    "grid_params = {'max_depth': [2,15,20],\n",
    "               'num_leaves': [2,5,10]}\n",
    "\n",
    "gs = GridSearchCV(estimator=LGBMClassifier(random_state=123),\n",
    "                  param_grid=grid_params,\n",
    "                  cv=10)\n",
    "\n",
    "gs.fit(text_bow_train_32, y_train_32)\n",
    "model1 = gs.best_estimator_\n",
    "print('1) BOW')\n",
    "print('Best Accuracy: %.2f%%' % (gs.best_score_*100))\n",
    "print('Best Params:', gs.best_params_)\n",
    "\n",
    "gs.fit(text_tfidf_train_32, y_train_32)\n",
    "model2 = gs.best_estimator_\n",
    "print('2) Tf-idf')\n",
    "print('Best Accuracy: %.2f%%' % (gs.best_score_*100))\n",
    "print('Best Params:', gs.best_params_)"
   ]
  },
  {
   "cell_type": "markdown",
   "metadata": {},
   "source": [
    "#### Precision, Recall, F1-score"
   ]
  },
  {
   "cell_type": "code",
   "execution_count": 36,
   "metadata": {},
   "outputs": [
    {
     "name": "stdout",
     "output_type": "stream",
     "text": [
      "1) BOW\n",
      "Accuracy: 0.959\n",
      "Precision: 0.960\n",
      "Recall: 0.960\n",
      "F1: 0.959\n",
      "MCC: 0.945\n",
      "2) Tf-idf\n",
      "Accuracy: 0.942\n",
      "Precision: 0.947\n",
      "Recall: 0.943\n",
      "F1: 0.945\n",
      "MCC: 0.921\n"
     ]
    }
   ],
   "source": [
    "predictions1 = model1.predict(text_bow_test_32)\n",
    "print('1) BOW')\n",
    "display_scores(y_test_32, predictions1)\n",
    "\n",
    "\n",
    "predictions2 = model2.predict(text_tfidf_test_32)\n",
    "print('2) Tf-idf')\n",
    "display_scores(y_test_32, predictions2)"
   ]
  },
  {
   "cell_type": "markdown",
   "metadata": {},
   "source": [
    "#### Confusion matrix"
   ]
  },
  {
   "cell_type": "code",
   "execution_count": 37,
   "metadata": {},
   "outputs": [
    {
     "name": "stdout",
     "output_type": "stream",
     "text": [
      "Normalized confusion matrix\n",
      "[[0.96666667 0.         0.03333333 0.        ]\n",
      " [0.02       0.98       0.         0.        ]\n",
      " [0.         0.         0.97727273 0.02272727]\n",
      " [0.         0.         0.08510638 0.91489362]]\n",
      "Normalized confusion matrix\n",
      "[[0.96666667 0.         0.03333333 0.        ]\n",
      " [0.         0.96       0.02       0.02      ]\n",
      " [0.         0.02272727 0.93181818 0.04545455]\n",
      " [0.         0.         0.08510638 0.91489362]]\n"
     ]
    },
    {
     "data": {
      "image/png": "[encoded data removed]",
      "text/plain": [
       "<Figure size 432x288 with 2 Axes>"
      ]
     },
     "metadata": {
      "needs_background": "light"
     },
     "output_type": "display_data"
    },
    {
     "data": {
      "image/png": "[encoded data removed]",
      "text/plain": [
       "<Figure size 432x288 with 2 Axes>"
      ]
     },
     "metadata": {
      "needs_background": "light"
     },
     "output_type": "display_data"
    }
   ],
   "source": [
    "cm1 = confusion_matrix(y_test_32,predictions1)\n",
    "plt.figure()\n",
    "\n",
    "plot_confusion_matrix(cm1, author_info['author'], normalize=True, title='BOW Confusion Matrix')\n",
    "\n",
    "cm2 = confusion_matrix(y_test_32,predictions2)\n",
    "plt.figure()\n",
    "\n",
    "plot_confusion_matrix(cm2, author_info['author'], normalize=True, title='Tfidf Confusion Matrix')"
   ]
  },
  {
   "cell_type": "markdown",
   "metadata": {},
   "source": [
    "## 5) Model evaluation\n",
    "\n",
    "#### Confidence interval via 0.632+ boostrap on original dataset"
   ]
  },
  {
   "cell_type": "code",
   "execution_count": 38,
   "metadata": {},
   "outputs": [
    {
     "name": "stderr",
     "output_type": "stream",
     "text": [
      "C:\\Users\\zhan\\Anaconda\\lib\\site-packages\\sklearn\\feature_extraction\\text.py:484: UserWarning: The parameter 'token_pattern' will not be used since 'tokenizer' is not None'\n",
      "  warnings.warn(\"The parameter 'token_pattern' will not be used\"\n"
     ]
    }
   ],
   "source": [
    "bow_transformer = CountVectorizer(tokenizer = SR_tokenizer).fit(X)\n",
    "\n",
    "# tfidf_transformer = TfidfVectorizer(tokenizer = SR_tokenizer).fit(X)"
   ]
  },
  {
   "cell_type": "code",
   "execution_count": 39,
   "metadata": {},
   "outputs": [],
   "source": [
    "text_bow = bow_transformer.transform(X)\n",
    "\n",
    "# text_tfidf = tfidf_transformer.transform(X)"
   ]
  },
  {
   "cell_type": "markdown",
   "metadata": {},
   "source": [
    "#### Best model: MultinomialNB"
   ]
  },
  {
   "cell_type": "code",
   "execution_count": 40,
   "metadata": {},
   "outputs": [
    {
     "name": "stdout",
     "output_type": "stream",
     "text": [
      "0.632+ Bootstrap:\n",
      "Mean Bootstrap score: 98.55%\n",
      "Score Std 0.005100712859477617\n",
      "Confidence interval: [0.975, 0.994]\n"
     ]
    }
   ],
   "source": [
    "from mlxtend.evaluate import bootstrap_point632_score\n",
    "\n",
    "cv_acc = bootstrap_point632_score(estimator=MultinomialNB(),\n",
    "                                 X=text_bow,\n",
    "                                 y=y,\n",
    "                                 random_seed=123)\n",
    "\n",
    "print('0.632+ Bootstrap:')\n",
    "print('Mean Bootstrap score: %.2f%%' % (np.mean(cv_acc)*100))\n",
    "print('Score Std', np.std(cv_acc))\n",
    "\n",
    "print('Confidence interval: [%.3f, %.3f]' % (np.percentile(cv_acc, 2.5), np.percentile(cv_acc, 97.5)))"
   ]
  }
 ],
 "metadata": {
  "kernelspec": {
   "display_name": "Python 3",
   "language": "python",
   "name": "python3"
  },
  "language_info": {
   "codemirror_mode": {
    "name": "ipython",
    "version": 3
   },
   "file_extension": ".py",
   "mimetype": "text/x-python",
   "name": "python",
   "nbconvert_exporter": "python",
   "pygments_lexer": "ipython3",
   "version": "3.8.5"
  }
 },
 "nbformat": 4,
 "nbformat_minor": 4
}
